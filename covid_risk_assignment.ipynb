{
  "nbformat": 4,
  "nbformat_minor": 0,
  "metadata": {
    "colab": {
      "name": "ilkders.ipynb",
      "provenance": []
    },
    "kernelspec": {
      "name": "python3",
      "display_name": "Python 3"
    },
    "language_info": {
      "name": "python"
    }
  },
  "cells": [
    {
      "cell_type": "code",
      "metadata": {
        "colab": {
          "base_uri": "https://localhost:8080/"
        },
        "id": "-a0Ab2_5K9b2",
        "outputId": "31de64c8-5d88-4845-caa7-f5f536136bae"
      },
      "source": [
        "age = input(\"Are you a cigarette addict older than 75 years old?  Please answer 'yes' or 'no' \").lower().strip()\n",
        "chronic = input(\"Do you have a severe chronic disease? Please answer 'yes' or 'no' \").lower().strip()\n",
        "immune = input(\"Is your immune system too weak? Please answer 'yes' or 'no' \").lower().strip()\n",
        "\n",
        "if age == \"yes\" :\n",
        "  age = True\n",
        "else :\n",
        "  age = False\n",
        "if chronic == \"yes\" : \n",
        "  chronic = True\n",
        "else :\n",
        "  chronic = False\n",
        "if immune == \"yes\" :\n",
        "  immune = True\n",
        "else :\n",
        "  immune = False\n",
        "death_risk = age or chronic or immune\n",
        "if death_risk :\n",
        "  print(\"You are in risky group\")\n",
        "else :\n",
        "  print(\"You are not in risky group\")"
      ],
      "execution_count": 12,
      "outputs": [
        {
          "output_type": "stream",
          "text": [
            "Are you a cigarette addict older than 75 years old?  Please answer 'yes' or 'no' no\n",
            "Do you have a severe chronic disease? Please answer 'yes' or 'no' no\n",
            "Is your immune system too weak? Please answer 'yes' or 'no' no\n",
            "You are not in risky group\n"
          ],
          "name": "stdout"
        }
      ]
    }
  ]
}